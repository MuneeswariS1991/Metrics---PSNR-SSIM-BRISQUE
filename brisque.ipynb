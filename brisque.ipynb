{
 "cells": [
  {
   "cell_type": "code",
   "execution_count": 2,
   "metadata": {
    "colab": {
     "base_uri": "https://localhost:8080/",
     "height": 145
    },
    "colab_type": "code",
    "id": "Cvb9ou0bqQjX",
    "outputId": "aa2acbe1-fd5c-4cbb-8171-c486af7995c2"
   },
   "outputs": [
    {
     "name": "stdout",
     "output_type": "stream",
     "text": [
      "Cloning into 'No-Reference-Image-Quality-Assessment-using-BRISQUE-Model'...\n",
      "remote: Enumerating objects: 6, done.\u001b[K\n",
      "remote: Counting objects: 100% (6/6), done.\u001b[K\n",
      "remote: Compressing objects: 100% (5/5), done.\u001b[K\n",
      "remote: Total 226 (delta 1), reused 3 (delta 1), pack-reused 220\u001b[K\n",
      "Receiving objects: 100% (226/226), 1.74 MiB | 1.91 MiB/s, done.\n",
      "Resolving deltas: 100% (56/56), done.\n"
     ]
    }
   ],
   "source": [
    "!git clone https://github.com/krshrimali/No-Reference-Image-Quality-Assessment-using-BRISQUE-Model.git"
   ]
  },
  {
   "cell_type": "code",
   "execution_count": 8,
   "metadata": {
    "colab": {
     "base_uri": "https://localhost:8080/",
     "height": 35
    },
    "colab_type": "code",
    "id": "20zpmKtsqgLY",
    "outputId": "dfe1877f-9cc7-4c9e-95b1-54affe527bd0"
   },
   "outputs": [
    {
     "name": "stdout",
     "output_type": "stream",
     "text": [
      "/content/No-Reference-Image-Quality-Assessment-using-BRISQUE-Model/Python/libsvm/python\n"
     ]
    }
   ],
   "source": [
    "cd /content/No-Reference-Image-Quality-Assessment-using-BRISQUE-Model/Python/libsvm/python"
   ]
  },
  {
   "cell_type": "code",
   "execution_count": 19,
   "metadata": {
    "colab": {
     "base_uri": "https://localhost:8080/",
     "height": 35
    },
    "colab_type": "code",
    "id": "43hG9FMzqxG5",
    "outputId": "99e7596d-a245-4811-ea47-b962d87a0da1"
   },
   "outputs": [
    {
     "name": "stdout",
     "output_type": "stream",
     "text": [
      "Score of the given image:  31.753562547100586\n"
     ]
    }
   ],
   "source": [
    "!python brisquequality.py /content/frame0.jpg"
   ]
  },
  {
   "cell_type": "code",
   "execution_count": null,
   "metadata": {
    "colab": {},
    "colab_type": "code",
    "id": "ze3L1Fu2q1sU"
   },
   "outputs": [],
   "source": []
  }
 ],
 "metadata": {
  "colab": {
   "name": "brisque.ipynb",
   "provenance": []
  },
  "kernelspec": {
   "display_name": "Python 3",
   "language": "python",
   "name": "python3"
  },
  "language_info": {
   "codemirror_mode": {
    "name": "ipython",
    "version": 3
   },
   "file_extension": ".py",
   "mimetype": "text/x-python",
   "name": "python",
   "nbconvert_exporter": "python",
   "pygments_lexer": "ipython3",
   "version": "3.7.6"
  }
 },
 "nbformat": 4,
 "nbformat_minor": 1
}
