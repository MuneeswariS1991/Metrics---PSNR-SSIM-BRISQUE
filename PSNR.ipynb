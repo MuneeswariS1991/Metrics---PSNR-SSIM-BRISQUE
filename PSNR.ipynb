{
 "cells": [
  {
   "cell_type": "code",
   "execution_count": 19,
   "metadata": {},
   "outputs": [
    {
     "name": "stdout",
     "output_type": "stream",
     "text": [
      "PSNR value is 32.36402485578113 dB\n"
     ]
    }
   ],
   "source": [
    "from math import log10, sqrt \n",
    "import cv2 \n",
    "import numpy as np \n",
    "\n",
    "def PSNR(original, compressed): \n",
    "\tmse = np.mean((original - compressed) ** 2) \n",
    "\tif(mse == 0): # MSE is zero means no noise is present in the signal . \n",
    "\t\t\t\t# Therefore PSNR have no importance. \n",
    "\t\treturn 100\n",
    "\tmax_pixel = 255.0\n",
    "\tpsnr = 20 * log10(max_pixel / sqrt(mse)) \n",
    "\treturn psnr \n",
    "\n",
    "def main(): \n",
    "\toriginal = cv2.imread('C:/Users/MUNEESWARI S/data1/frame26.jpg') \n",
    "\tcompressed = cv2.imread('C:/Users/MUNEESWARI S/data1/frame30.jpg', 1) \n",
    "\tvalue = PSNR(original, compressed) \n",
    "\tprint(f\"PSNR value is {value} dB\") \n",
    "\n",
    "\t\n",
    "if __name__ == \"__main__\": \n",
    "\tmain() \n"
   ]
  },
  {
   "cell_type": "code",
   "execution_count": null,
   "metadata": {},
   "outputs": [],
   "source": []
  }
 ],
 "metadata": {
  "kernelspec": {
   "display_name": "Python 3",
   "language": "python",
   "name": "python3"
  },
  "language_info": {
   "codemirror_mode": {
    "name": "ipython",
    "version": 3
   },
   "file_extension": ".py",
   "mimetype": "text/x-python",
   "name": "python",
   "nbconvert_exporter": "python",
   "pygments_lexer": "ipython3",
   "version": "3.7.6"
  }
 },
 "nbformat": 4,
 "nbformat_minor": 4
}
